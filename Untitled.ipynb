{
 "cells": [
  {
   "cell_type": "code",
   "execution_count": 1,
   "id": "acddd3ff-27a3-4c8c-9a93-770147c8e7d7",
   "metadata": {},
   "outputs": [
    {
     "name": "stdout",
     "output_type": "stream",
     "text": [
      "Column Headers:\n",
      "['clip_name', 'frame_start', 'frame_end', 'team_id', 'formation']\n"
     ]
    }
   ],
   "source": [
    "import pandas as pd\n",
    "\n",
    "# Load the CSV file\n",
    "df = pd.read_csv('formation_labels.csv')  # Replace with your file path\n",
    "\n",
    "# Show the first few rows (to check headers and structure)\n",
    "df.head()\n",
    "\n",
    "# Check just the column headers\n",
    "print(\"Column Headers:\")\n",
    "print(df.columns.tolist())\n"
   ]
  },
  {
   "cell_type": "code",
   "execution_count": null,
   "id": "c2457ef9-c9d2-4654-bac7-20994062cf9f",
   "metadata": {},
   "outputs": [],
   "source": []
  }
 ],
 "metadata": {
  "kernelspec": {
   "display_name": "Python 3 (ipykernel)",
   "language": "python",
   "name": "python3"
  },
  "language_info": {
   "codemirror_mode": {
    "name": "ipython",
    "version": 3
   },
   "file_extension": ".py",
   "mimetype": "text/x-python",
   "name": "python",
   "nbconvert_exporter": "python",
   "pygments_lexer": "ipython3",
   "version": "3.11.10"
  }
 },
 "nbformat": 4,
 "nbformat_minor": 5
}
